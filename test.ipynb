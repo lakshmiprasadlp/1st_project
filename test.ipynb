{
 "cells": [
  {
   "cell_type": "code",
   "execution_count": 1,
   "metadata": {},
   "outputs": [
    {
     "name": "stdout",
     "output_type": "stream",
     "text": [
      "lp\n"
     ]
    }
   ],
   "source": [
    "print(\"lp\")"
   ]
  },
  {
   "cell_type": "code",
   "execution_count": 19,
   "metadata": {},
   "outputs": [],
   "source": [
    "import os\n",
    "path=\"reserch.ipynb\"\n",
    "#from pathlib import path"
   ]
  },
  {
   "cell_type": "code",
   "execution_count": 20,
   "metadata": {},
   "outputs": [
    {
     "name": "stdout",
     "output_type": "stream",
     "text": [
      "dir is  \n",
      "path is  reserch.ipynb\n"
     ]
    }
   ],
   "source": [
    "dir,file=os.path.split(path)\n",
    "print(\"dir is \",dir)\n",
    "print(\"path is \",path)"
   ]
  },
  {
   "cell_type": "code",
   "execution_count": 18,
   "metadata": {},
   "outputs": [],
   "source": [
    "os.makedirs(dir,exist_ok=True)"
   ]
  },
  {
   "cell_type": "code",
   "execution_count": 23,
   "metadata": {},
   "outputs": [
    {
     "name": "stdout",
     "output_type": "stream",
     "text": [
      "path is  drive\\lp\\kp\n",
      "file name is  ty.py\n"
     ]
    }
   ],
   "source": [
    "from pathlib import  Path\n",
    "filepath=\"drive/lp/kp/ty.py\"\n",
    "filepath=Path(filepath)\n",
    "filedir,filename=os.path.split(filepath)\n",
    "print(\"path is \",filedir)\n",
    "print(\"file name is \",filename)"
   ]
  },
  {
   "cell_type": "code",
   "execution_count": 26,
   "metadata": {},
   "outputs": [
    {
     "name": "stdout",
     "output_type": "stream",
     "text": [
      "path is  drive\\lp\n",
      "file name is  ty.py\n"
     ]
    }
   ],
   "source": [
    "from pathlib import  Path\n",
    "filepath=\"drive\\\\lp\\\\ty.py\"\n",
    "filepath=Path(filepath)\n",
    "filedir,filename=os.path.split(filepath)\n",
    "print(\"path is \",filedir)\n",
    "print(\"file name is \",filename)"
   ]
  },
  {
   "cell_type": "code",
   "execution_count": 27,
   "metadata": {},
   "outputs": [
    {
     "name": "stdout",
     "output_type": "stream",
     "text": [
      "path is  drive\\lp\\kp\n",
      "file name is  ty.py\n"
     ]
    }
   ],
   "source": [
    "from pathlib import  Path\n",
    "filepath=\"drive//lp//kp//ty.py\"\n",
    "filepath=Path(filepath)\n",
    "filedir,filename=os.path.split(filepath)\n",
    "print(\"path is \",filedir)\n",
    "print(\"file name is \",filename)"
   ]
  },
  {
   "cell_type": "code",
   "execution_count": 1,
   "metadata": {},
   "outputs": [],
   "source": [
    "from pathlib import  Path\n",
    "import os"
   ]
  },
  {
   "cell_type": "code",
   "execution_count": 5,
   "metadata": {},
   "outputs": [
    {
     "data": {
      "text/plain": [
       "str"
      ]
     },
     "execution_count": 5,
     "metadata": {},
     "output_type": "execute_result"
    }
   ],
   "source": [
    "raw_data_path:int=os.path.join(\"artifcts\",\"raw.csv\")\n",
    "type(raw_data_path)"
   ]
  },
  {
   "cell_type": "code",
   "execution_count": null,
   "metadata": {},
   "outputs": [],
   "source": []
  }
 ],
 "metadata": {
  "kernelspec": {
   "display_name": ".venv",
   "language": "python",
   "name": "python3"
  },
  "language_info": {
   "codemirror_mode": {
    "name": "ipython",
    "version": 3
   },
   "file_extension": ".py",
   "mimetype": "text/x-python",
   "name": "python",
   "nbconvert_exporter": "python",
   "pygments_lexer": "ipython3",
   "version": "3.9.17"
  }
 },
 "nbformat": 4,
 "nbformat_minor": 2
}
